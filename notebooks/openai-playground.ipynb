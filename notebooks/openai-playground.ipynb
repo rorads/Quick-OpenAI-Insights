{
 "cells": [
  {
   "cell_type": "code",
   "execution_count": 20,
   "metadata": {},
   "outputs": [
    {
     "name": "stdout",
     "output_type": "stream",
     "text": [
      "/workspaces/Quick-OpenAI-Insights\n"
     ]
    }
   ],
   "source": [
    "cd /workspaces/Quick-OpenAI-Insights # this only works on codespaces!"
   ]
  },
  {
   "cell_type": "code",
   "execution_count": 7,
   "metadata": {},
   "outputs": [],
   "source": [
    "from src.preprocess import YTVideoTranscript\n",
    "import openai\n",
    "\n",
    "# import and load dotenv - required for loading environment variables\n",
    "from dotenv import load_dotenv\n",
    "load_dotenv()\n",
    "\n",
    "import pandas as pd"
   ]
  },
  {
   "cell_type": "code",
   "execution_count": 25,
   "metadata": {},
   "outputs": [],
   "source": [
    "def make_prompt(text: str):\n",
    "    \"\"\"\n",
    "    Returns a prompt for the autocomplete api with a pre-defined json structure and the text to summarize.\n",
    "    Args:\n",
    "        text (str): the text to summarize\n",
    "    \"\"\"\n",
    "    prompt = \"\"\"\n",
    "    What follows is a chunk of text. I want you to return a json string with the following structure. \n",
    "    Note that the source text contains no punctuation, and doesn't have well defined boundaries between sentences.\n",
    "    Json structure:\n",
    "    {{\n",
    "        \"topic\": \"a two or three word topic for the text\",\n",
    "        \"tags\": \"a space separated list of tags for the text\",\n",
    "        \"sentiment\": \"a sentiment score for the text, ranging from 0 to 1\",\n",
    "        \"urgency\": \"an urgency score for the text, ranging from 0 to 1, where 0 is not urgent and 1 is very urgent\",\n",
    "        \"descriptive_normative\": \"a descriptiveness and normativitiy score for the text, ranging from 0 to 1, where 0 is descriptive and 1 is normative\",\n",
    "        \"questioning\": \"a questioning score for the text, ranging from 0 to 1, where 0 is not questioning and 1 is very questioning\",\n",
    "    }}\n",
    "\n",
    "    text:\n",
    "    \\\"\\\"\\\"\n",
    "    {}\n",
    "    \\\"\\\"\\\"\n",
    "    \"\"\".format(text)\n",
    "\n",
    "    return prompt"
   ]
  },
  {
   "cell_type": "code",
   "execution_count": 14,
   "metadata": {},
   "outputs": [],
   "source": [
    "# get a rolled up dataframe to work with\n",
    "textfile = YTVideoTranscript('data/raw/HMRC DALAS Transcript Raw.txt')\n",
    "textfile.roll_up_df(chunksize=10)\n",
    "df = textfile.get_data_frame()"
   ]
  },
  {
   "cell_type": "code",
   "execution_count": 26,
   "metadata": {},
   "outputs": [
    {
     "name": "stdout",
     "output_type": "stream",
     "text": [
      "\n",
      "    What follows is a chunk of text. I want you to return a json string with the following structure. \n",
      "    Note that the source text contains no punctuation, and doesn't have well defined boundaries between sentences.\n",
      "    Json structure:\n",
      "    {\n",
      "        \"topic\": \"a two or three word topic for the text\",\n",
      "        \"tags\": \"a space separated list of tags for the text\",\n",
      "        \"sentiment\": \"a sentiment score for the text, ranging from 0 to 1\",\n",
      "        \"urgency\": \"an urgency score for the text, ranging from 0 to 1, where 0 is not urgent and 1 is very urgent\",\n",
      "        \"descriptive_normative\": \"a descriptiveness and normativitiy score for the text, ranging from 0 to 1, where 0 is descriptive and 1 is normative\",\n",
      "        \"questioning\": \"a questioning score for the text, ranging from 0 to 1, where 0 is not questioning and 1 is very questioning\",\n",
      "    }\n",
      "\n",
      "    text:\n",
      "    \"\"\"\n",
      "    so I think we are fine to get started and the first thing on the agenda is oh the first thing on our agenda is a message from Dr Philip ormondsey oh I should have used this slide I'm just realizing that sorry I hear that thing I've said all of that all right thanks yeah thank you very much and thank you for hosting this Market engagement event uh welcome everyone uh to this event we're really delighted to have you here it's great to see that CCS Crown commercial service and hmrc a collaborating on such an important um activity not just for hmrc but for the oil of government um Legacy migration Legacy encapsulation Legacy remediation is quite topical right now most of um what we spend in government you know goes to where is managing our Legacy estate so it's really good to see us working collaboratively with hmrc to\n",
      "    \"\"\"\n",
      "    \n"
     ]
    }
   ],
   "source": [
    "new_prompt = make_prompt(df['text'][0])\n",
    "print(new_prompt)"
   ]
  },
  {
   "cell_type": "code",
   "execution_count": 30,
   "metadata": {},
   "outputs": [
    {
     "name": "stdout",
     "output_type": "stream",
     "text": [
      "{'topic': 'Legacy Migration', 'tags': 'government, CCS, hmrc, collaboration, Legacy estate, Legacy migration, Legacy encapsulation, Legacy remediation', 'sentiment': '0.7', 'urgency': '0.8', 'descriptive_normative': '0.5', 'questioning': '0.2'}\n"
     ]
    }
   ],
   "source": [
    "# call the autocomplete api using the make_prompt function\n",
    "response = openai.Completion.create(\n",
    "    engine=\"text-davinci-003\",\n",
    "    prompt=new_prompt,\n",
    "    temperature=0.2, # low temperature means the model will be more conservative\n",
    "    max_tokens=100,\n",
    "    top_p=1,\n",
    "    frequency_penalty=0,\n",
    "    presence_penalty=0\n",
    ")\n",
    "\n",
    "# parse the response json text into a dict using the json library\n",
    "import json\n",
    "output_text = response['choices'][0]['text']\n",
    "\n",
    "# Remove arbitrary indentation from the text\n",
    "json_text = \"\"\n",
    "for line in output_text.split(\"\\n\"):\n",
    "    json_text += line.strip()\n",
    "\n",
    "# Parse the JSON data using the loads() function\n",
    "data = json.loads(json_text)\n",
    "\n",
    "print(data)"
   ]
  },
  {
   "cell_type": "code",
   "execution_count": null,
   "metadata": {},
   "outputs": [],
   "source": []
  }
 ],
 "metadata": {
  "kernelspec": {
   "display_name": ".ve",
   "language": "python",
   "name": "python3"
  },
  "language_info": {
   "codemirror_mode": {
    "name": "ipython",
    "version": 3
   },
   "file_extension": ".py",
   "mimetype": "text/x-python",
   "name": "python",
   "nbconvert_exporter": "python",
   "pygments_lexer": "ipython3",
   "version": "3.10.4"
  },
  "orig_nbformat": 4,
  "vscode": {
   "interpreter": {
    "hash": "74e479d9ae72adc706e45e5e5d75a92fa67b768ef72f999bca0140337ff9ea7a"
   }
  }
 },
 "nbformat": 4,
 "nbformat_minor": 2
}
