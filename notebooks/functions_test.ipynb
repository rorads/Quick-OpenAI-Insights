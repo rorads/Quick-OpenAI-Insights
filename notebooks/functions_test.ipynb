{
 "cells": [
  {
   "cell_type": "code",
   "execution_count": 1,
   "metadata": {},
   "outputs": [],
   "source": [
    "import json\n",
    "import openai\n",
    "import pandas as pd\n",
    "from dotenv import load_dotenv"
   ]
  },
  {
   "cell_type": "code",
   "execution_count": 2,
   "metadata": {},
   "outputs": [],
   "source": [
    "student_1_description = \"David Nguyen is a sophomore majoring in computer science at Stanford University. He is Asian American and has a 3.8 GPA. David is known for his programming skills and is an active member of the university's Robotics Club. He hopes to pursue a career in artificial intelligence after graduating.\"\n",
    "\n",
    "student_2_description=\"Ravi Patel is a sophomore majoring in computer science at the University of Michigan. He is South Asian Indian American and has a 3.7 GPA. Ravi is an active member of the university's Chess Club and the South Asian Student Association. He hopes to pursue a career in software engineering after graduating.\""
   ]
  },
  {
   "cell_type": "code",
   "execution_count": 3,
   "metadata": {},
   "outputs": [],
   "source": [
    "metric_custom_functions = [\n",
    "    {\n",
    "        'name': 'getMetrics',\n",
    "        'description': 'Get metrics other fields body of the input text',\n",
    "        'parameters': {\n",
    "            'type': 'object',\n",
    "            'properties': {\n",
    "                'parsed': {\n",
    "                    'type': 'string',\n",
    "                    'description': 'Your best effort to put punctuation and structure into the text'\n",
    "                },\n",
    "                'topic': {\n",
    "                    'type': 'string',\n",
    "                    'description': 'A two or three word topic for the text'\n",
    "                },\n",
    "                'tags': {\n",
    "                    'type': 'string',\n",
    "                    'description': 'A comma separated list in square brackets of at most five important tags for the text, each tag in quotes, and the list enclosed in square brackets'\n",
    "                },\n",
    "                'sentiment': {\n",
    "                    'type': 'integer',\n",
    "                    'description': 'A sentiment star rating for the text, ranging from 0 to 10'\n",
    "                },\n",
    "                'urgency': {\n",
    "                    'type': 'integer',\n",
    "                    'description': 'An urgency star rating for the text, ranging from 0 to 10, where 0 stars is not urgent and 10 stars is very urgent'\n",
    "                },\n",
    "                'descriptive_normative': {\n",
    "                    'type': 'integer',\n",
    "                    'description': 'A descriptiveness and normativity star rating for the text, ranging from 0 to 10, where 0 stars is descriptive and 10 stars is normative'\n",
    "                },\n",
    "                'questioning': {\n",
    "                    'type': 'integer',\n",
    "                    'description': 'A questioning star rating for the text, ranging from 0 to 10, where 0 stars is not questioning and 10 stars is very questioning'\n",
    "                }\n",
    "            }\n",
    "        }\n",
    "    }\n",
    "]"
   ]
  },
  {
   "cell_type": "code",
   "execution_count": 4,
   "metadata": {},
   "outputs": [],
   "source": [
    "client = openai.Client()"
   ]
  },
  {
   "cell_type": "code",
   "execution_count": 5,
   "metadata": {},
   "outputs": [
    {
     "name": "stdout",
     "output_type": "stream",
     "text": [
      "{'parsed': \"David Nguyen is a sophomore majoring in computer science at Stanford University. He is Asian American and has a 3.8 GPA. David is known for his programming skills and is an active member of the university's Robotics Club. He hopes to pursue a career in artificial intelligence after graduating.\", 'topic': 'Student Profile', 'tags': '[\"computer science\", \"Stanford University\", \"Robotics Club\", \"artificial intelligence\", \"GPA\"]', 'sentiment': 8, 'urgency': 2, 'descriptive_normative': 1, 'questioning': 0}\n",
      "{'parsed': \"Ravi Patel is a sophomore majoring in computer science at the University of Michigan. He is South Asian Indian American and has a 3.7 GPA. Ravi is an active member of the university's Chess Club and the South Asian Student Association. He hopes to pursue a career in software engineering after graduating.\", 'topic': 'Student Profile', 'tags': '[\"education\", \"student life\", \"diversity\", \"career goals\", \"extracurricular activities\"]', 'sentiment': 8, 'urgency': 2, 'descriptive_normative': 2, 'questioning': 0}\n"
     ]
    }
   ],
   "source": [
    "student_description = [student_1_description,student_2_description]\n",
    "for i in student_description:\n",
    "    response = client.chat.completions.create(\n",
    "        model = 'gpt-4-turbo-preview',\n",
    "        messages = [{'role': 'user', 'content': i}],\n",
    "        functions = metric_custom_functions,\n",
    "        function_call = {\"name\": \"getMetrics\"}\n",
    "    )\n",
    "\n",
    "    # Loading the response as a JSON object\n",
    "    json_response = json.loads(response.choices[0].message.function_call.arguments)\n",
    "    print(json_response)"
   ]
  },
  {
   "cell_type": "code",
   "execution_count": null,
   "metadata": {},
   "outputs": [],
   "source": []
  }
 ],
 "metadata": {
  "kernelspec": {
   "display_name": ".venv",
   "language": "python",
   "name": "python3"
  },
  "language_info": {
   "codemirror_mode": {
    "name": "ipython",
    "version": 3
   },
   "file_extension": ".py",
   "mimetype": "text/x-python",
   "name": "python",
   "nbconvert_exporter": "python",
   "pygments_lexer": "ipython3",
   "version": "3.10.13"
  }
 },
 "nbformat": 4,
 "nbformat_minor": 2
}
